{
  "cells": [
    {
      "cell_type": "code",
      "execution_count": null,
      "metadata": {
        "id": "4j6GnITT6L3f"
      },
      "outputs": [],
      "source": [
        "import pathlib\n",
        "import matplotlib.pyplot as plt\n",
        "import cv2\n",
        "import numpy as np\n",
        "import os\n",
        "\n",
        "import tensorflow as tf\n",
        "from tensorflow import keras\n",
        "from tensorflow.keras import layers\n",
        "from tensorflow.python.keras.layers import Dense, Flatten\n",
        "from tensorflow.keras.models import Sequential\n",
        "from tensorflow.keras.optimizers import Adam\n",
        "from tensorflow.keras.preprocessing.image import ImageDataGenerator\n",
        "from sklearn.model_selection import train_test_split"
      ]
    },
    {
      "cell_type": "markdown",
      "metadata": {
        "id": "VPk14tWQ6nOf"
      },
      "source": [
        "1. Persiapan Dataset"
      ]
    },
    {
      "cell_type": "code",
      "execution_count": null,
      "metadata": {
        "colab": {
          "base_uri": "https://localhost:8080/"
        },
        "id": "gwATSZqY7gtu",
        "outputId": "71bb6242-5f67-46f7-b8fd-ac0a830aee6f"
      },
      "outputs": [
        {
          "output_type": "stream",
          "name": "stdout",
          "text": [
            "Mounted at /content/drive\n"
          ]
        }
      ],
      "source": [
        "from google.colab import drive\n",
        "drive.mount('/content/drive')"
      ]
    },
    {
      "cell_type": "code",
      "execution_count": null,
      "metadata": {
        "id": "bWqS7xQa6dz2"
      },
      "outputs": [],
      "source": [
        "# Mendefinisikan path ke dataset di Google Drive\n",
        "path_to_dataset = '/content/drive/MyDrive/datasets/nyoba doang asli'"
      ]
    },
    {
      "cell_type": "markdown",
      "metadata": {
        "id": "26OuAXuo66jS"
      },
      "source": [
        "Membuat instance ImageDataGenerator untuk augmentasi gambar"
      ]
    },
    {
      "cell_type": "code",
      "execution_count": null,
      "metadata": {
        "id": "HDaX31jk6v-B"
      },
      "outputs": [],
      "source": [
        "image_generator = ImageDataGenerator(\n",
        "    rescale=1./255,\n",
        "    rotation_range=20,\n",
        "    zoom_range=0.2,\n",
        "    width_shift_range=0.2,\n",
        "    height_shift_range=0.2,\n",
        "    horizontal_flip=True,\n",
        "    validation_split=0.2\n",
        ")"
      ]
    },
    {
      "cell_type": "markdown",
      "metadata": {
        "id": "CjUXTCHI7C2E"
      },
      "source": [
        "Memuat dataset dari Google Drive"
      ]
    },
    {
      "cell_type": "code",
      "execution_count": null,
      "metadata": {
        "colab": {
          "base_uri": "https://localhost:8080/"
        },
        "id": "DakfVIMl7Baa",
        "outputId": "3536c835-13c4-4e7d-a40f-673b631af90e"
      },
      "outputs": [
        {
          "output_type": "stream",
          "name": "stdout",
          "text": [
            "Found 650 images belonging to 5 classes.\n",
            "Found 160 images belonging to 5 classes.\n"
          ]
        }
      ],
      "source": [
        "train_dataset = image_generator.flow_from_directory(\n",
        "    directory=path_to_dataset,\n",
        "    target_size=(224, 224),\n",
        "    batch_size=32,\n",
        "    subset='training'\n",
        ")\n",
        "\n",
        "validation_dataset = image_generator.flow_from_directory(\n",
        "    directory=path_to_dataset,\n",
        "    target_size=(224, 224),\n",
        "    batch_size=32,\n",
        "    subset='validation'\n",
        ")"
      ]
    },
    {
      "cell_type": "code",
      "execution_count": null,
      "metadata": {
        "id": "wxP7DIxp8hBh"
      },
      "outputs": [],
      "source": [
        "# Menentukan jumlah kelas (num_classes) berdasarkan jumlah subfolder dalam dataset\n",
        "num_classes = len(train_dataset.class_indices)"
      ]
    },
    {
      "cell_type": "markdown",
      "metadata": {
        "id": "Jsmd2d827v2R"
      },
      "source": [
        "2. Pembuatan Model"
      ]
    },
    {
      "cell_type": "code",
      "source": [
        "from tensorflow.keras.applications.mobilenet import MobileNet\n",
        "\n",
        "# Load the MobileNet model\n",
        "pre_trained_model = MobileNet(input_shape=(224, 224, 3), include_top=False, weights='imagenet')\n",
        "\n",
        "pre_trained_model.summary()"
      ],
      "metadata": {
        "colab": {
          "base_uri": "https://localhost:8080/"
        },
        "id": "A6sX3ySEnbJL",
        "outputId": "4e4df916-5b2c-40f8-f234-af3fa7188786"
      },
      "execution_count": null,
      "outputs": [
        {
          "output_type": "stream",
          "name": "stdout",
          "text": [
            "Downloading data from https://storage.googleapis.com/tensorflow/keras-applications/mobilenet/mobilenet_1_0_224_tf_no_top.h5\n",
            "17225924/17225924 [==============================] - 0s 0us/step\n",
            "Model: \"mobilenet_1.00_224\"\n",
            "_________________________________________________________________\n",
            " Layer (type)                Output Shape              Param #   \n",
            "=================================================================\n",
            " input_1 (InputLayer)        [(None, 224, 224, 3)]     0         \n",
            "                                                                 \n",
            " conv1 (Conv2D)              (None, 112, 112, 32)      864       \n",
            "                                                                 \n",
            " conv1_bn (BatchNormalizatio  (None, 112, 112, 32)     128       \n",
            " n)                                                              \n",
            "                                                                 \n",
            " conv1_relu (ReLU)           (None, 112, 112, 32)      0         \n",
            "                                                                 \n",
            " conv_dw_1 (DepthwiseConv2D)  (None, 112, 112, 32)     288       \n",
            "                                                                 \n",
            " conv_dw_1_bn (BatchNormaliz  (None, 112, 112, 32)     128       \n",
            " ation)                                                          \n",
            "                                                                 \n",
            " conv_dw_1_relu (ReLU)       (None, 112, 112, 32)      0         \n",
            "                                                                 \n",
            " conv_pw_1 (Conv2D)          (None, 112, 112, 64)      2048      \n",
            "                                                                 \n",
            " conv_pw_1_bn (BatchNormaliz  (None, 112, 112, 64)     256       \n",
            " ation)                                                          \n",
            "                                                                 \n",
            " conv_pw_1_relu (ReLU)       (None, 112, 112, 64)      0         \n",
            "                                                                 \n",
            " conv_pad_2 (ZeroPadding2D)  (None, 113, 113, 64)      0         \n",
            "                                                                 \n",
            " conv_dw_2 (DepthwiseConv2D)  (None, 56, 56, 64)       576       \n",
            "                                                                 \n",
            " conv_dw_2_bn (BatchNormaliz  (None, 56, 56, 64)       256       \n",
            " ation)                                                          \n",
            "                                                                 \n",
            " conv_dw_2_relu (ReLU)       (None, 56, 56, 64)        0         \n",
            "                                                                 \n",
            " conv_pw_2 (Conv2D)          (None, 56, 56, 128)       8192      \n",
            "                                                                 \n",
            " conv_pw_2_bn (BatchNormaliz  (None, 56, 56, 128)      512       \n",
            " ation)                                                          \n",
            "                                                                 \n",
            " conv_pw_2_relu (ReLU)       (None, 56, 56, 128)       0         \n",
            "                                                                 \n",
            " conv_dw_3 (DepthwiseConv2D)  (None, 56, 56, 128)      1152      \n",
            "                                                                 \n",
            " conv_dw_3_bn (BatchNormaliz  (None, 56, 56, 128)      512       \n",
            " ation)                                                          \n",
            "                                                                 \n",
            " conv_dw_3_relu (ReLU)       (None, 56, 56, 128)       0         \n",
            "                                                                 \n",
            " conv_pw_3 (Conv2D)          (None, 56, 56, 128)       16384     \n",
            "                                                                 \n",
            " conv_pw_3_bn (BatchNormaliz  (None, 56, 56, 128)      512       \n",
            " ation)                                                          \n",
            "                                                                 \n",
            " conv_pw_3_relu (ReLU)       (None, 56, 56, 128)       0         \n",
            "                                                                 \n",
            " conv_pad_4 (ZeroPadding2D)  (None, 57, 57, 128)       0         \n",
            "                                                                 \n",
            " conv_dw_4 (DepthwiseConv2D)  (None, 28, 28, 128)      1152      \n",
            "                                                                 \n",
            " conv_dw_4_bn (BatchNormaliz  (None, 28, 28, 128)      512       \n",
            " ation)                                                          \n",
            "                                                                 \n",
            " conv_dw_4_relu (ReLU)       (None, 28, 28, 128)       0         \n",
            "                                                                 \n",
            " conv_pw_4 (Conv2D)          (None, 28, 28, 256)       32768     \n",
            "                                                                 \n",
            " conv_pw_4_bn (BatchNormaliz  (None, 28, 28, 256)      1024      \n",
            " ation)                                                          \n",
            "                                                                 \n",
            " conv_pw_4_relu (ReLU)       (None, 28, 28, 256)       0         \n",
            "                                                                 \n",
            " conv_dw_5 (DepthwiseConv2D)  (None, 28, 28, 256)      2304      \n",
            "                                                                 \n",
            " conv_dw_5_bn (BatchNormaliz  (None, 28, 28, 256)      1024      \n",
            " ation)                                                          \n",
            "                                                                 \n",
            " conv_dw_5_relu (ReLU)       (None, 28, 28, 256)       0         \n",
            "                                                                 \n",
            " conv_pw_5 (Conv2D)          (None, 28, 28, 256)       65536     \n",
            "                                                                 \n",
            " conv_pw_5_bn (BatchNormaliz  (None, 28, 28, 256)      1024      \n",
            " ation)                                                          \n",
            "                                                                 \n",
            " conv_pw_5_relu (ReLU)       (None, 28, 28, 256)       0         \n",
            "                                                                 \n",
            " conv_pad_6 (ZeroPadding2D)  (None, 29, 29, 256)       0         \n",
            "                                                                 \n",
            " conv_dw_6 (DepthwiseConv2D)  (None, 14, 14, 256)      2304      \n",
            "                                                                 \n",
            " conv_dw_6_bn (BatchNormaliz  (None, 14, 14, 256)      1024      \n",
            " ation)                                                          \n",
            "                                                                 \n",
            " conv_dw_6_relu (ReLU)       (None, 14, 14, 256)       0         \n",
            "                                                                 \n",
            " conv_pw_6 (Conv2D)          (None, 14, 14, 512)       131072    \n",
            "                                                                 \n",
            " conv_pw_6_bn (BatchNormaliz  (None, 14, 14, 512)      2048      \n",
            " ation)                                                          \n",
            "                                                                 \n",
            " conv_pw_6_relu (ReLU)       (None, 14, 14, 512)       0         \n",
            "                                                                 \n",
            " conv_dw_7 (DepthwiseConv2D)  (None, 14, 14, 512)      4608      \n",
            "                                                                 \n",
            " conv_dw_7_bn (BatchNormaliz  (None, 14, 14, 512)      2048      \n",
            " ation)                                                          \n",
            "                                                                 \n",
            " conv_dw_7_relu (ReLU)       (None, 14, 14, 512)       0         \n",
            "                                                                 \n",
            " conv_pw_7 (Conv2D)          (None, 14, 14, 512)       262144    \n",
            "                                                                 \n",
            " conv_pw_7_bn (BatchNormaliz  (None, 14, 14, 512)      2048      \n",
            " ation)                                                          \n",
            "                                                                 \n",
            " conv_pw_7_relu (ReLU)       (None, 14, 14, 512)       0         \n",
            "                                                                 \n",
            " conv_dw_8 (DepthwiseConv2D)  (None, 14, 14, 512)      4608      \n",
            "                                                                 \n",
            " conv_dw_8_bn (BatchNormaliz  (None, 14, 14, 512)      2048      \n",
            " ation)                                                          \n",
            "                                                                 \n",
            " conv_dw_8_relu (ReLU)       (None, 14, 14, 512)       0         \n",
            "                                                                 \n",
            " conv_pw_8 (Conv2D)          (None, 14, 14, 512)       262144    \n",
            "                                                                 \n",
            " conv_pw_8_bn (BatchNormaliz  (None, 14, 14, 512)      2048      \n",
            " ation)                                                          \n",
            "                                                                 \n",
            " conv_pw_8_relu (ReLU)       (None, 14, 14, 512)       0         \n",
            "                                                                 \n",
            " conv_dw_9 (DepthwiseConv2D)  (None, 14, 14, 512)      4608      \n",
            "                                                                 \n",
            " conv_dw_9_bn (BatchNormaliz  (None, 14, 14, 512)      2048      \n",
            " ation)                                                          \n",
            "                                                                 \n",
            " conv_dw_9_relu (ReLU)       (None, 14, 14, 512)       0         \n",
            "                                                                 \n",
            " conv_pw_9 (Conv2D)          (None, 14, 14, 512)       262144    \n",
            "                                                                 \n",
            " conv_pw_9_bn (BatchNormaliz  (None, 14, 14, 512)      2048      \n",
            " ation)                                                          \n",
            "                                                                 \n",
            " conv_pw_9_relu (ReLU)       (None, 14, 14, 512)       0         \n",
            "                                                                 \n",
            " conv_dw_10 (DepthwiseConv2D  (None, 14, 14, 512)      4608      \n",
            " )                                                               \n",
            "                                                                 \n",
            " conv_dw_10_bn (BatchNormali  (None, 14, 14, 512)      2048      \n",
            " zation)                                                         \n",
            "                                                                 \n",
            " conv_dw_10_relu (ReLU)      (None, 14, 14, 512)       0         \n",
            "                                                                 \n",
            " conv_pw_10 (Conv2D)         (None, 14, 14, 512)       262144    \n",
            "                                                                 \n",
            " conv_pw_10_bn (BatchNormali  (None, 14, 14, 512)      2048      \n",
            " zation)                                                         \n",
            "                                                                 \n",
            " conv_pw_10_relu (ReLU)      (None, 14, 14, 512)       0         \n",
            "                                                                 \n",
            " conv_dw_11 (DepthwiseConv2D  (None, 14, 14, 512)      4608      \n",
            " )                                                               \n",
            "                                                                 \n",
            " conv_dw_11_bn (BatchNormali  (None, 14, 14, 512)      2048      \n",
            " zation)                                                         \n",
            "                                                                 \n",
            " conv_dw_11_relu (ReLU)      (None, 14, 14, 512)       0         \n",
            "                                                                 \n",
            " conv_pw_11 (Conv2D)         (None, 14, 14, 512)       262144    \n",
            "                                                                 \n",
            " conv_pw_11_bn (BatchNormali  (None, 14, 14, 512)      2048      \n",
            " zation)                                                         \n",
            "                                                                 \n",
            " conv_pw_11_relu (ReLU)      (None, 14, 14, 512)       0         \n",
            "                                                                 \n",
            " conv_pad_12 (ZeroPadding2D)  (None, 15, 15, 512)      0         \n",
            "                                                                 \n",
            " conv_dw_12 (DepthwiseConv2D  (None, 7, 7, 512)        4608      \n",
            " )                                                               \n",
            "                                                                 \n",
            " conv_dw_12_bn (BatchNormali  (None, 7, 7, 512)        2048      \n",
            " zation)                                                         \n",
            "                                                                 \n",
            " conv_dw_12_relu (ReLU)      (None, 7, 7, 512)         0         \n",
            "                                                                 \n",
            " conv_pw_12 (Conv2D)         (None, 7, 7, 1024)        524288    \n",
            "                                                                 \n",
            " conv_pw_12_bn (BatchNormali  (None, 7, 7, 1024)       4096      \n",
            " zation)                                                         \n",
            "                                                                 \n",
            " conv_pw_12_relu (ReLU)      (None, 7, 7, 1024)        0         \n",
            "                                                                 \n",
            " conv_dw_13 (DepthwiseConv2D  (None, 7, 7, 1024)       9216      \n",
            " )                                                               \n",
            "                                                                 \n",
            " conv_dw_13_bn (BatchNormali  (None, 7, 7, 1024)       4096      \n",
            " zation)                                                         \n",
            "                                                                 \n",
            " conv_dw_13_relu (ReLU)      (None, 7, 7, 1024)        0         \n",
            "                                                                 \n",
            " conv_pw_13 (Conv2D)         (None, 7, 7, 1024)        1048576   \n",
            "                                                                 \n",
            " conv_pw_13_bn (BatchNormali  (None, 7, 7, 1024)       4096      \n",
            " zation)                                                         \n",
            "                                                                 \n",
            " conv_pw_13_relu (ReLU)      (None, 7, 7, 1024)        0         \n",
            "                                                                 \n",
            "=================================================================\n",
            "Total params: 3,228,864\n",
            "Trainable params: 3,206,976\n",
            "Non-trainable params: 21,888\n",
            "_________________________________________________________________\n"
          ]
        }
      ]
    },
    {
      "cell_type": "code",
      "execution_count": null,
      "metadata": {
        "id": "b5U0vAB17x8w"
      },
      "outputs": [],
      "source": [
        "# Menambahkan layer kustom di atas model pre-trained\n",
        "model = tf.keras.Sequential([\n",
        "    pre_trained_model,\n",
        "    tf.keras.layers.GlobalAveragePooling2D(),\n",
        "    tf.keras.layers.Flatten(),\n",
        "    tf.keras.layers.Dense(512, activation='relu'),\n",
        "    tf.keras.layers.Dropout(0.5),\n",
        "    tf.keras.layers.Dense(num_classes, activation='softmax')\n",
        "])"
      ]
    },
    {
      "cell_type": "code",
      "execution_count": null,
      "metadata": {
        "id": "YKzCuFt772eB"
      },
      "outputs": [],
      "source": [
        "# Compile model\n",
        "from tensorflow.keras.optimizers import RMSprop\n",
        "model.compile(optimizer=RMSprop(learning_rate=0.0001),\n",
        "              loss='categorical_crossentropy',\n",
        "              metrics=['accuracy'])"
      ]
    },
    {
      "cell_type": "markdown",
      "metadata": {
        "id": "i8Fupq_m8rYG"
      },
      "source": [
        "3. Pelatihan Model"
      ]
    },
    {
      "cell_type": "code",
      "execution_count": null,
      "metadata": {
        "colab": {
          "base_uri": "https://localhost:8080/"
        },
        "id": "h5N_5ZFh8taE",
        "outputId": "fc21f7d8-b655-4c6f-8cde-1860ba601f86"
      },
      "outputs": [
        {
          "output_type": "stream",
          "name": "stdout",
          "text": [
            "Epoch 1/10\n",
            "21/21 [==============================] - 298s 14s/step - loss: 1.0290 - accuracy: 0.6462 - val_loss: 0.8153 - val_accuracy: 0.6062\n",
            "Epoch 2/10\n",
            "21/21 [==============================] - 180s 9s/step - loss: 0.4514 - accuracy: 0.8446 - val_loss: 0.7191 - val_accuracy: 0.6687\n",
            "Epoch 3/10\n",
            "21/21 [==============================] - 188s 9s/step - loss: 0.2431 - accuracy: 0.9154 - val_loss: 0.5129 - val_accuracy: 0.7875\n",
            "Epoch 4/10\n",
            "21/21 [==============================] - 195s 9s/step - loss: 0.1553 - accuracy: 0.9569 - val_loss: 0.6313 - val_accuracy: 0.7437\n",
            "Epoch 5/10\n",
            "21/21 [==============================] - 192s 9s/step - loss: 0.1070 - accuracy: 0.9631 - val_loss: 0.1701 - val_accuracy: 0.9438\n",
            "Epoch 6/10\n",
            "21/21 [==============================] - 194s 9s/step - loss: 0.0729 - accuracy: 0.9769 - val_loss: 0.3156 - val_accuracy: 0.8625\n",
            "Epoch 7/10\n",
            "21/21 [==============================] - 185s 9s/step - loss: 0.0632 - accuracy: 0.9846 - val_loss: 0.3159 - val_accuracy: 0.8687\n",
            "Epoch 8/10\n",
            "21/21 [==============================] - 193s 9s/step - loss: 0.0576 - accuracy: 0.9785 - val_loss: 0.1626 - val_accuracy: 0.9250\n",
            "Epoch 9/10\n",
            "21/21 [==============================] - 204s 10s/step - loss: 0.0543 - accuracy: 0.9800 - val_loss: 0.1006 - val_accuracy: 0.9688\n",
            "Epoch 10/10\n",
            "21/21 [==============================] - 182s 9s/step - loss: 0.0459 - accuracy: 0.9846 - val_loss: 0.1271 - val_accuracy: 0.9625\n"
          ]
        }
      ],
      "source": [
        "history = model.fit(train_dataset,\n",
        "              validation_data=validation_dataset,\n",
        "              epochs=10,\n",
        "              verbose = 1\n",
        "          )"
      ]
    },
    {
      "cell_type": "markdown",
      "metadata": {
        "id": "0UO7UoBB9dLv"
      },
      "source": [
        "4. Deskripsi Gambar"
      ]
    },
    {
      "cell_type": "code",
      "source": [
        "loss = history.history['loss']\n",
        "val_loss = history.history['val_loss']\n",
        "epochs = range(1,len(loss)+1)\n",
        "\n",
        "plt.plot(epochs,loss,'y',label = 'Training loss')\n",
        "plt.plot(epochs, val_loss, 'r', label='Validation loss')\n",
        "plt.title('Training and validation loss')\n",
        "plt.xlabel('epoch')\n",
        "plt.ylabel('loss')\n",
        "plt.legend()\n",
        "plt.show()"
      ],
      "metadata": {
        "colab": {
          "base_uri": "https://localhost:8080/",
          "height": 472
        },
        "id": "dtZG4i35uvUO",
        "outputId": "6afcff7d-323c-4c8e-8ff3-799cfcf00d83"
      },
      "execution_count": null,
      "outputs": [
        {
          "output_type": "display_data",
          "data": {
            "text/plain": [
              "<Figure size 640x480 with 1 Axes>"
            ],
            "image/png": "[encoded data removed]"
          },
          "metadata": {}
        }
      ]
    },
    {
      "cell_type": "code",
      "source": [
        "acc = history.history['accuracy']\n",
        "val_acc = history.history['val_accuracy']\n",
        "epochs = range(1,len(loss)+1)\n",
        "\n",
        "plt.plot(epochs,acc,'y',label = 'Training acc')\n",
        "plt.plot(epochs, val_acc, 'r', label='Validation acc')\n",
        "plt.title('Training and validation acc')\n",
        "plt.xlabel('epoch')\n",
        "plt.ylabel('acc')\n",
        "plt.legend()\n",
        "plt.show()"
      ],
      "metadata": {
        "colab": {
          "base_uri": "https://localhost:8080/",
          "height": 472
        },
        "id": "9fdYgokQu0-t",
        "outputId": "624da1ba-63e9-4b5d-8efd-b03263c6598e"
      },
      "execution_count": null,
      "outputs": [
        {
          "output_type": "display_data",
          "data": {
            "text/plain": [
              "<Figure size 640x480 with 1 Axes>"
            ],
            "image/png": "[encoded data removed]"
          },
          "metadata": {}
        }
      ]
    },
    {
      "cell_type": "code",
      "source": [
        "from keras.models import load_model\n",
        "model.save('/content/mdlh5.h5')\n",
        "model=load_model('/content/mdlh5.h5')"
      ],
      "metadata": {
        "id": "fH-6w5uJXuw6"
      },
      "execution_count": null,
      "outputs": []
    },
    {
      "cell_type": "code",
      "execution_count": null,
      "metadata": {
        "id": "DWo6R8vh9fTH"
      },
      "outputs": [],
      "source": [
        "# Mengklasifikasikan gambar menggunakan model\n",
        "# Ambil contoh satu gambar untuk dijadikan deskripsi dan rekomendasi\n",
        "image_path = '/content/kain2.jpg'\n",
        "image = tf.keras.preprocessing.image.load_img(image_path, target_size=(224, 224))\n",
        "image_array = tf.keras.preprocessing.image.img_to_array(image)\n",
        "image_array = tf.expand_dims(image_array, 0)\n",
        "image_array = image_array / 255.0  # Normalisasi"
      ]
    },
    {
      "cell_type": "code",
      "source": [
        "class_name = train_dataset.class_indices\n",
        "class_name = list(dict.keys(class_name))\n",
        "print(class_name)"
      ],
      "metadata": {
        "colab": {
          "base_uri": "https://localhost:8080/"
        },
        "id": "yQSmzGYZfRDt",
        "outputId": "1c4a4b0b-0b35-450a-d645-df3f2768ab25"
      },
      "execution_count": null,
      "outputs": [
        {
          "output_type": "stream",
          "name": "stdout",
          "text": [
            "['Botol', 'Kaca', 'Kain', 'Kaleng', 'Plastik']\n"
          ]
        }
      ]
    },
    {
      "cell_type": "code",
      "execution_count": null,
      "metadata": {
        "id": "ijNqKRop9qsE",
        "colab": {
          "base_uri": "https://localhost:8080/"
        },
        "outputId": "95500cbc-a502-4fb1-e012-0a5bdce1be40"
      },
      "outputs": [
        {
          "output_type": "stream",
          "name": "stdout",
          "text": [
            "1/1 [==============================] - 0s 117ms/step\n",
            "Ini adalah kaleng.\n"
          ]
        }
      ],
      "source": [
        "predictions = model.predict(image_array)\n",
        "predicted_class = tf.argmax(predictions[0])\n",
        "\n",
        "predicted_class = tf.argmax(predictions[0])\n",
        "description = \"\"\n",
        "if predicted_class == 0:\n",
        "    description = \"Ini adalah botol.\"\n",
        "elif predicted_class == 1:\n",
        "    description = \"Ini adalah kaca.\"\n",
        "elif predicted_class == 2:\n",
        "    description = \"Ini adalah kain.\"\n",
        "elif predicted_class == 3:\n",
        "    description = \"Ini adalah kaleng.\"\n",
        "elif predicted_class == 4:\n",
        "    description = \"Ini adalah plastik.\"\n",
        "\n",
        "print(description)"
      ]
    },
    {
      "cell_type": "markdown",
      "metadata": {
        "id": "3B6FbrW89wMN"
      },
      "source": [
        "5. Rekomendasi Daur Ulang"
      ]
    },
    {
      "cell_type": "code",
      "execution_count": null,
      "metadata": {
        "id": "Ua4mHxSg9ycI"
      },
      "outputs": [],
      "source": [
        "# Buat rekomendasi berdasarkan kelas yang diprediksi\n",
        "recommendation = \"\"\n",
        "if predicted_class == 0:\n",
        "    recommendation = \"Daur ulang botol plastik dengan memasukkannya ke tempat pengumpulan botol plastik terpisah.\"\n",
        "elif predicted_class == 1:\n",
        "    recommendation = \"Daur ulang kaleng aluminium dengan memasukkannya ke tempat pengumpulan kaleng aluminium terpisah.\"\n",
        "elif predicted_class == 2:\n",
        "    recommendation = \"Daur ulang kertas dengan memasukkannya ke tempat pengumpulan kertas terpisah.\"\n",
        "elif predicted_class == 3:\n",
        "    recommendation = \"Daur ulang kardus dengan memasukkannya ke tempat pengumpulan kardus terpisah.\"\n",
        "elif predicted_class == 4:\n",
        "    recommendation = \"Daur ulang botol kaca dengan memasukkannya ke tempat pengumpulan botol kaca terpisah.\"\n",
        "elif predicted_class == 5:\n",
        "    recommendation = \"Hindari penggunaan kantong plastik. Gantilah dengan tas belanja yang dapat digunakan berulang kali.\""
      ]
    },
    {
      "cell_type": "code",
      "execution_count": null,
      "metadata": {
        "id": "9vClIYeS934C"
      },
      "outputs": [],
      "source": [
        "# Cetak deskripsi dan rekomendasi\n",
        "print(\"Deskripsi: \", description)\n",
        "print(\"Rekomendasi: \", recommendation)"
      ]
    }
  ],
  "metadata": {
    "colab": {
      "provenance": []
    },
    "kernelspec": {
      "display_name": "Python 3",
      "name": "python3"
    },
    "language_info": {
      "name": "python"
    }
  },
  "nbformat": 4,
  "nbformat_minor": 0
}